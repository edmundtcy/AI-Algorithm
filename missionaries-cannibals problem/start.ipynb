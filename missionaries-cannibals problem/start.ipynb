{
 "cells": [
  {
   "cell_type": "code",
   "execution_count": null,
   "metadata": {},
   "outputs": [],
   "source": []
  }
 ],
 "metadata": {
  "kernelspec": {
   "display_name": "Python 3",
   "language": "python",
   "name": "python3"
  },
  "language_info": {
   "name": "python",
   "version": "3.10.10"
  },
  "orig_nbformat": 4,
  "vscode": {
   "interpreter": {
    "hash": "394ce0802dcd3b7e105456e7f42222fefa098e4cbafbce59a0a47bc6e821e955"
   }
  }
 },
 "nbformat": 4,
 "nbformat_minor": 2
}
