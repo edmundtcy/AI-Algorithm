{
 "cells": [
  {
   "cell_type": "code",
   "execution_count": 44,
   "metadata": {},
   "outputs": [],
   "source": [
    "from copy import deepcopy"
   ]
  },
  {
   "cell_type": "code",
   "execution_count": 45,
   "metadata": {},
   "outputs": [],
   "source": [
    "class State:\n",
    "    def __init__(self, start, pre_move = 'root'):\n",
    "        self.start = start\n",
    "        self.end = [0,0] #[#missionaries, #cannibals]\n",
    "        self.boad_location = 0 #0 is the RHS or the river, #1 is the LHS of the river\n",
    "        self.pre_move = pre_move\n",
    "\n",
    "    def ValidMove(self, boad):\n",
    "        if sum(boad) > 0 and sum(boad) <= 2:\n",
    "\n",
    "            if self.boad_location == 0:\n",
    "                if self.end[0] == 0:\n",
    "                    if self.start[0] - boad[0] >= self.start[1] - boad[1]:\n",
    "                        return True\n",
    "                    else:\n",
    "                        return False\n",
    "                else:\n",
    "                    if self.start[0] - boad[0] >= self.start[1] - boad[1] and self.end[0] + boad[0] >= self.end[1] + boad[1]:\n",
    "                        return True\n",
    "                    else:\n",
    "                        return False\n",
    "                    \n",
    "            elif self.boad_location == 1:\n",
    "\n",
    "                if self.start[0] == 0:\n",
    "                    if self.end[0] - boad[0] >= self.end[1] - boad[1]:\n",
    "                        return True\n",
    "                    else:\n",
    "                        return False\n",
    "                else:\n",
    "                    if self.end[0] - boad[0] >= self.end[1] - boad[1] and self.start[0] + boad[0] >= self.start[1] + boad[1]:\n",
    "                        return True\n",
    "                    else:\n",
    "                        return False\n",
    "\n",
    "            else:\n",
    "                print('boad location error')\n",
    "                return False\n",
    "        else:\n",
    "            return False\n",
    "\n",
    "    def SavedMove(self, boad):\n",
    "        saved = deepcopy(self)\n",
    "        if self.ValidMove(boad):\n",
    "            if self.boad_location == 0:\n",
    "                self.start[0] -= boad[0]\n",
    "                self.start[1] -= boad[1]\n",
    "                self.end[0] += boad[0]\n",
    "                self.end[1] += boad[1]\n",
    "                self.pre_move = boad\n",
    "            elif self.boad_location == 1:\n",
    "                self.start[0] += boad[0]\n",
    "                self.start[1] += boad[1]\n",
    "                self.end[0] -= boad[0]\n",
    "                self.end[1] -= boad[1]\n",
    "                self.pre_move = boad\n",
    "            return saved\n",
    "        else:\n",
    "            print('Invalid move')\n",
    "            return False \n",
    "        \n",
    "    def Expand(self):\n",
    "        nodes = []\n",
    "        boad_list = [[2,0],[0,2],[1,1]]\n",
    "        loop_move = [[2,0],[0,2],[1,1]]\n",
    "        for i in range(0, len(boad_list)):\n",
    "            if self.ValidMove(boad_list[i]) and self.pre_move != loop_move[i]:\n",
    "                temp = deepcopy(self)\n",
    "                temp.SavedMove(boad_list[i])\n",
    "                nodes.append(temp)\n",
    "        return nodes"
   ]
  },
  {
   "cell_type": "code",
   "execution_count": 46,
   "metadata": {},
   "outputs": [
    {
     "name": "stdout",
     "output_type": "stream",
     "text": [
      "Start: [3, 1]\n",
      "End:  [0, 2]\n",
      "Start: [2, 2]\n",
      "End:  [1, 1]\n"
     ]
    }
   ],
   "source": [
    "def main():\n",
    "    start_state = [3,3] # First index = #missionaries, Second index = #cannibals\n",
    "    start = State(start_state)\n",
    "    for node in start.Expand():\n",
    "        print('Start:', node.start)\n",
    "        print('End: ',node.end)\n",
    "    \n",
    "main()"
   ]
  }
 ],
 "metadata": {
  "kernelspec": {
   "display_name": "Python 3",
   "language": "python",
   "name": "python3"
  },
  "language_info": {
   "codemirror_mode": {
    "name": "ipython",
    "version": 3
   },
   "file_extension": ".py",
   "mimetype": "text/x-python",
   "name": "python",
   "nbconvert_exporter": "python",
   "pygments_lexer": "ipython3",
   "version": "3.10.10"
  },
  "orig_nbformat": 4,
  "vscode": {
   "interpreter": {
    "hash": "394ce0802dcd3b7e105456e7f42222fefa098e4cbafbce59a0a47bc6e821e955"
   }
  }
 },
 "nbformat": 4,
 "nbformat_minor": 2
}
