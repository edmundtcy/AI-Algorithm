{
 "cells": [
  {
   "cell_type": "code",
   "execution_count": 10,
   "metadata": {},
   "outputs": [],
   "source": [
    "import numpy as np\n",
    "import copy"
   ]
  },
  {
   "cell_type": "code",
   "execution_count": 37,
   "metadata": {},
   "outputs": [],
   "source": [
    "def read(filename):\n",
    "    start = open(filename,'r').read().replace('\\n', '').replace(' ', '')\n",
    "    goal = open('goal.txt','r').read().replace('\\n', '').replace(' ', '')\n",
    "    start_state = []\n",
    "    goal_state = []\n",
    "    for i in range(0,len(start)):\n",
    "        start_state.append(int(start[i]))\n",
    "    for i in range(0,len(goal)):\n",
    "        goal_state.append(int(goal[i]))\n",
    "    return start_state, goal_state\n"
   ]
  },
  {
   "cell_type": "code",
   "execution_count": null,
   "metadata": {},
   "outputs": [],
   "source": [
    "class Position:\n",
    "    def __init__(self, index):\n",
    "        self.x = index // 3\n",
    "        self.y = index % 3"
   ]
  },
  {
   "cell_type": "code",
   "execution_count": 47,
   "metadata": {},
   "outputs": [],
   "source": [
    "class State2:\n",
    "    def __init__(self, state, next_step = None):\n",
    "        self.state = np.array([state[:3], state[3:6], state[6:]])\n",
    "        self.next_step = next_step\n",
    "        self.FindZero()\n",
    "\n",
    "    def __eq__(self, other):\n",
    "        if type(self) == type(other) and self.state.all() == other.state.all():\n",
    "            return True\n",
    "        else:\n",
    "            return False\n",
    "        \n",
    "    def Print(self):\n",
    "        print(self.state)\n",
    "        print('---------')\n",
    "    \n",
    "    def FindZero(self):\n",
    "        index = np.where(self.state == 0)\n",
    "        coordinate= list(zip(index[0], index[1]))\n",
    "        return coordinate[0]\n",
    "\n",
    "    def SavedMove(self,dir=None):\n",
    "        if (self.ValidMove(dir)):\n",
    "            old = copy.deepcopy(self)\n",
    "            if dir == 'right':\n",
    "                target = [self.FindZero()[0], self.FindZero()[1] + 1]\n",
    "                self.state[self.FindZero()[0]][self.FindZero()[1]] = self.state[target[0]][target[1]]\n",
    "                self.state[target[0]][target[1]] = 0\n",
    "                return old\n",
    "            if dir == 'left':\n",
    "                target = [self.FindZero()[0], self.FindZero()[1] - 1]\n",
    "                self.state[self.FindZero()[0]][self.FindZero()[1]] = self.state[target[0]][target[1]]\n",
    "                self.state[target[0]][target[1]] = 0\n",
    "                return old\n",
    "            if dir == 'up':\n",
    "                target = [self.FindZero()[0] - 1, self.FindZero()[1]]\n",
    "                self.state[self.FindZero()[0]][self.FindZero()[1]] = self.state[target[0]][target[1]]\n",
    "                self.state[target[0]][target[1]] = 0\n",
    "                return old\n",
    "            if dir == 'down':\n",
    "                target = [self.FindZero()[0] + 1, self.FindZero()[1]]\n",
    "                self.state[self.FindZero()[0]][self.FindZero()[1]] = self.state[target[0]][target[1]]\n",
    "                self.state[target[0]][target[1]] = 0\n",
    "                return old\n",
    "                \n",
    "    def ValidMove(self, dir=None):\n",
    "        if dir == None:\n",
    "            return False\n",
    "        elif dir == 'right':\n",
    "            if self.FindZero()[1] != 2:\n",
    "                return True\n",
    "        elif dir == 'left':\n",
    "            if self.FindZero()[1] != 0:\n",
    "                return True\n",
    "        elif dir == 'up':\n",
    "            if self.FindZero()[0] != 0:\n",
    "                return True\n",
    "        elif dir == 'down':\n",
    "            if self.FindZero()[0] != 2:\n",
    "                return True\n",
    "        else:\n",
    "            return False"
   ]
  },
  {
   "cell_type": "code",
   "execution_count": 50,
   "metadata": {},
   "outputs": [
    {
     "name": "stdout",
     "output_type": "stream",
     "text": [
      "[[7 2 4]\n",
      " [5 0 6]\n",
      " [8 3 1]]\n",
      "---------\n",
      "[[7 2 4]\n",
      " [5 3 6]\n",
      " [8 0 1]]\n",
      "---------\n",
      "[[7 2 4]\n",
      " [5 3 6]\n",
      " [8 0 1]]\n",
      "---------\n"
     ]
    }
   ],
   "source": [
    "start_state, goal_state = read('input.txt')\n",
    "start = State2(start_state)\n",
    "start.Print()\n",
    "start.SavedMove('down')\n",
    "start.Print()\n",
    "start.SavedMove('up')\n",
    "start.Print()"
   ]
  },
  {
   "cell_type": "code",
   "execution_count": null,
   "metadata": {},
   "outputs": [],
   "source": [
    "class State:\n",
    "    def __init__(self, state, next_step = None):\n",
    "        self.state = state\n",
    "        self.next_step = next_step\n",
    "    def __eq__(self, other):\n",
    "        if type(self) == type(other) and self.state == other.state:\n",
    "            return True\n",
    "        else:\n",
    "            return False\n",
    "    def Print(self):\n",
    "        array = np.array([self.state[:3], self.state[3:6], self.state[6:]])\n",
    "        for item in array:\n",
    "            print(item)\n"
   ]
  }
 ],
 "metadata": {
  "kernelspec": {
   "display_name": "Python 3",
   "language": "python",
   "name": "python3"
  },
  "language_info": {
   "codemirror_mode": {
    "name": "ipython",
    "version": 3
   },
   "file_extension": ".py",
   "mimetype": "text/x-python",
   "name": "python",
   "nbconvert_exporter": "python",
   "pygments_lexer": "ipython3",
   "version": "3.10.9"
  },
  "orig_nbformat": 4,
  "vscode": {
   "interpreter": {
    "hash": "394ce0802dcd3b7e105456e7f42222fefa098e4cbafbce59a0a47bc6e821e955"
   }
  }
 },
 "nbformat": 4,
 "nbformat_minor": 2
}
